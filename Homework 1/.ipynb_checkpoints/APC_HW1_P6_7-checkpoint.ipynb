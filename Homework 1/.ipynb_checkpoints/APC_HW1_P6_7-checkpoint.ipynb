{
 "cells": [
  {
   "cell_type": "code",
   "execution_count": 1,
   "metadata": {},
   "outputs": [],
   "source": [
    "import sympy as sm\n",
    "import sympy.physics.mechanics as me\n",
    "me.init_vprinting()\n",
    "x1, x2 = me.dynamicsymbols('x_1 x_2')"
   ]
  },
  {
   "cell_type": "markdown",
   "metadata": {},
   "source": [
    "# Problem 6-7"
   ]
  },
  {
   "cell_type": "markdown",
   "metadata": {},
   "source": [
    "Define RHS of x1_dot and x2_dot "
   ]
  },
  {
   "cell_type": "code",
   "execution_count": 2,
   "metadata": {
    "scrolled": false
   },
   "outputs": [],
   "source": [
    "rhs1 = -x1**3 + x2\n",
    "rhs2 = x1 - x2**3\n",
    "\n",
    "# define equations x_dot = 0\n",
    "eq1 = sm.Eq(0, rhs1)\n",
    "eq2 = sm.Eq(0, rhs2)"
   ]
  },
  {
   "cell_type": "markdown",
   "metadata": {},
   "source": [
    "Equilibrium Equations, x_dot = 0 = f(x)"
   ]
  },
  {
   "cell_type": "code",
   "execution_count": 3,
   "metadata": {
    "scrolled": true
   },
   "outputs": [
    {
     "name": "stdout",
     "output_type": "stream",
     "text": [
      "Equation 1:\n"
     ]
    },
    {
     "data": {
      "image/png": "[encoded data removed]",
      "text/latex": [
       "$\\displaystyle 0 = - x^{3}_{1} + x_{2}$"
      ],
      "text/plain": [
       "        3     \n",
       "0 = - x₁  + x₂"
      ]
     },
     "execution_count": 3,
     "metadata": {},
     "output_type": "execute_result"
    }
   ],
   "source": [
    "print('Equation 1:')\n",
    "\n",
    "eq1"
   ]
  },
  {
   "cell_type": "code",
   "execution_count": 4,
   "metadata": {
    "scrolled": false
   },
   "outputs": [
    {
     "name": "stdout",
     "output_type": "stream",
     "text": [
      "Equation 2:\n"
     ]
    },
    {
     "data": {
      "image/png": "[encoded data removed]",
      "text/latex": [
       "$\\displaystyle 0 = x_{1} - x^{3}_{2}$"
      ],
      "text/plain": [
       "           3\n",
       "0 = x₁ - x₂ "
      ]
     },
     "execution_count": 4,
     "metadata": {},
     "output_type": "execute_result"
    }
   ],
   "source": [
    "print('Equation 2:')\n",
    "eq2"
   ]
  },
  {
   "cell_type": "markdown",
   "metadata": {},
   "source": [
    "Solve x_dot = 0 = f(x) for set of equilibrium points \n"
   ]
  },
  {
   "cell_type": "code",
   "execution_count": 5,
   "metadata": {},
   "outputs": [],
   "source": [
    "eqpts = sm.solve([eq1, eq2], x1, x2)"
   ]
  },
  {
   "cell_type": "code",
   "execution_count": 6,
   "metadata": {},
   "outputs": [
    {
     "name": "stdout",
     "output_type": "stream",
     "text": [
      "Equilbrium Points: \n"
     ]
    },
    {
     "data": {
      "image/png": "[encoded data removed]",
      "text/latex": [
       "$\\displaystyle \\left[ \\left\\{ x_{1} : -1, \\  x_{2} : -1\\right\\}, \\  \\left\\{ x_{1} : 0, \\  x_{2} : 0\\right\\}, \\  \\left\\{ x_{1} : 1, \\  x_{2} : 1\\right\\}, \\  \\left\\{ x_{1} : - i, \\  x_{2} : i\\right\\}, \\  \\left\\{ x_{1} : i, \\  x_{2} : - i\\right\\}, \\  \\left\\{ x_{1} : \\frac{\\sqrt{2} \\left(-1 + i\\right)}{2}, \\  x_{2} : \\frac{\\sqrt{2}}{2} + \\frac{\\sqrt{2} i}{2}\\right\\}, \\  \\left\\{ x_{1} : \\frac{\\sqrt{2} \\left(1 - i\\right)}{2}, \\  x_{2} : - \\frac{\\sqrt{2}}{2} - \\frac{\\sqrt{2} i}{2}\\right\\}, \\  \\left\\{ x_{1} : - \\frac{\\sqrt{2} \\left(1 + i\\right)}{2}, \\  x_{2} : \\frac{\\sqrt{2}}{2} - \\frac{\\sqrt{2} i}{2}\\right\\}, \\  \\left\\{ x_{1} : \\frac{\\sqrt{2} \\left(1 + i\\right)}{2}, \\  x_{2} : - \\frac{\\sqrt{2}}{2} + \\frac{\\sqrt{2} i}{2}\\right\\}\\right]$"
      ],
      "text/plain": [
       "⎡                                                                             \n",
       "⎢{x₁: -1, x₂: -1}, {x₁: 0, x₂: 0}, {x₁: 1, x₂: 1}, {x₁: -ⅈ, x₂: ⅈ}, {x₁: ⅈ, x₂\n",
       "⎣                                                                             \n",
       "\n",
       "       ⎧    √2⋅(-1 + ⅈ)      √2   √2⋅ⅈ⎫  ⎧    √2⋅(1 - ⅈ)        √2   √2⋅ⅈ⎫  ⎧ \n",
       ": -ⅈ}, ⎨x₁: ───────────, x₂: ── + ────⎬, ⎨x₁: ──────────, x₂: - ── - ────⎬, ⎨x\n",
       "       ⎩         2           2     2  ⎭  ⎩        2             2     2  ⎭  ⎩ \n",
       "\n",
       "   -√2⋅(1 + ⅈ)       √2   √2⋅ⅈ⎫  ⎧    √2⋅(1 + ⅈ)        √2   √2⋅ⅈ⎫⎤\n",
       "₁: ────────────, x₂: ── - ────⎬, ⎨x₁: ──────────, x₂: - ── + ────⎬⎥\n",
       "        2            2     2  ⎭  ⎩        2             2     2  ⎭⎦"
      ]
     },
     "execution_count": 6,
     "metadata": {},
     "output_type": "execute_result"
    }
   ],
   "source": [
    "print('Equilbrium Points: ')\n",
    "eqpts"
   ]
  },
  {
   "cell_type": "markdown",
   "metadata": {},
   "source": [
    "Solve for jacobian, J, of state space equations "
   ]
  },
  {
   "cell_type": "code",
   "execution_count": 7,
   "metadata": {},
   "outputs": [],
   "source": [
    "X = sm.Matrix([[rhs1], [rhs2]])\n",
    "Y = sm.Matrix([x1, x2])\n",
    "J = X.jacobian(Y)"
   ]
  },
  {
   "cell_type": "code",
   "execution_count": 8,
   "metadata": {
    "scrolled": false
   },
   "outputs": [
    {
     "name": "stdout",
     "output_type": "stream",
     "text": [
      "Jacobian: \n"
     ]
    },
    {
     "data": {
      "text/latex": [
       "$\\displaystyle \\left[\\begin{matrix}- 3 x^{2}_{1} & 1\\\\1 & - 3 x^{2}_{2}\\end{matrix}\\right]$"
      ],
      "text/plain": [
       "⎡     2        ⎤\n",
       "⎢-3⋅x₁     1   ⎥\n",
       "⎢              ⎥\n",
       "⎢             2⎥\n",
       "⎣  1     -3⋅x₂ ⎦"
      ]
     },
     "execution_count": 8,
     "metadata": {},
     "output_type": "execute_result"
    }
   ],
   "source": [
    "print('Jacobian: ')\n",
    "J"
   ]
  },
  {
   "cell_type": "code",
   "execution_count": 9,
   "metadata": {},
   "outputs": [],
   "source": [
    "evaluatedJacobians = []\n",
    "for point in eqpts:\n",
    "    jeval = J.subs(point)\n",
    "    evaluatedJacobians.append(jeval)"
   ]
  },
  {
   "cell_type": "code",
   "execution_count": 10,
   "metadata": {
    "scrolled": false
   },
   "outputs": [
    {
     "data": {
      "text/latex": [
       "$\\displaystyle \\left[ \\left[\\begin{matrix}-3 & 1\\\\1 & -3\\end{matrix}\\right], \\  \\left[\\begin{matrix}0 & 1\\\\1 & 0\\end{matrix}\\right], \\  \\left[\\begin{matrix}-3 & 1\\\\1 & -3\\end{matrix}\\right], \\  \\left[\\begin{matrix}3 & 1\\\\1 & 3\\end{matrix}\\right], \\  \\left[\\begin{matrix}3 & 1\\\\1 & 3\\end{matrix}\\right], \\  \\left[\\begin{matrix}- \\frac{3 \\left(-1 + i\\right)^{2}}{2} & 1\\\\1 & - 3 \\left(\\frac{\\sqrt{2}}{2} + \\frac{\\sqrt{2} i}{2}\\right)^{2}\\end{matrix}\\right], \\  \\left[\\begin{matrix}- \\frac{3 \\left(1 - i\\right)^{2}}{2} & 1\\\\1 & - 3 \\left(- \\frac{\\sqrt{2}}{2} - \\frac{\\sqrt{2} i}{2}\\right)^{2}\\end{matrix}\\right], \\  \\left[\\begin{matrix}- \\frac{3 \\left(1 + i\\right)^{2}}{2} & 1\\\\1 & - 3 \\left(\\frac{\\sqrt{2}}{2} - \\frac{\\sqrt{2} i}{2}\\right)^{2}\\end{matrix}\\right], \\  \\left[\\begin{matrix}- \\frac{3 \\left(1 + i\\right)^{2}}{2} & 1\\\\1 & - 3 \\left(- \\frac{\\sqrt{2}}{2} + \\frac{\\sqrt{2} i}{2}\\right)^{2}\\end{matrix}\\right]\\right]$"
      ],
      "text/plain": [
       "⎡                                            ⎡           2                  ⎤ \n",
       "⎢                                            ⎢-3⋅(-1 + ⅈ)                   ⎥ \n",
       "⎢                                            ⎢─────────────         1       ⎥ \n",
       "⎢⎡-3  1 ⎤  ⎡0  1⎤  ⎡-3  1 ⎤  ⎡3  1⎤  ⎡3  1⎤  ⎢      2                       ⎥ \n",
       "⎢⎢      ⎥, ⎢    ⎥, ⎢      ⎥, ⎢    ⎥, ⎢    ⎥, ⎢                              ⎥,\n",
       "⎢⎣1   -3⎦  ⎣1  0⎦  ⎣1   -3⎦  ⎣1  3⎦  ⎣1  3⎦  ⎢                             2⎥ \n",
       "⎢                                            ⎢                  ⎛√2   √2⋅ⅈ⎞ ⎥ \n",
       "⎢                                            ⎢      1        -3⋅⎜── + ────⎟ ⎥ \n",
       "⎣                                            ⎣                  ⎝2     2  ⎠ ⎦ \n",
       "\n",
       " ⎡          2                    ⎤  ⎡          2                  ⎤  ⎡        \n",
       " ⎢-3⋅(1 - ⅈ)                     ⎥  ⎢-3⋅(1 + ⅈ)                   ⎥  ⎢-3⋅(1 + \n",
       " ⎢────────────          1        ⎥  ⎢────────────         1       ⎥  ⎢────────\n",
       " ⎢     2                         ⎥  ⎢     2                       ⎥  ⎢     2  \n",
       " ⎢                               ⎥, ⎢                             ⎥, ⎢        \n",
       " ⎢                              2⎥  ⎢                            2⎥  ⎢        \n",
       " ⎢                 ⎛  √2   √2⋅ⅈ⎞ ⎥  ⎢                 ⎛√2   √2⋅ⅈ⎞ ⎥  ⎢        \n",
       " ⎢     1        -3⋅⎜- ── - ────⎟ ⎥  ⎢     1        -3⋅⎜── - ────⎟ ⎥  ⎢     1  \n",
       " ⎣                 ⎝  2     2  ⎠ ⎦  ⎣                 ⎝2     2  ⎠ ⎦  ⎣        \n",
       "\n",
       "  2                    ⎤⎤\n",
       "ⅈ)                     ⎥⎥\n",
       "────          1        ⎥⎥\n",
       "                       ⎥⎥\n",
       "                       ⎥⎥\n",
       "                      2⎥⎥\n",
       "         ⎛  √2   √2⋅ⅈ⎞ ⎥⎥\n",
       "      -3⋅⎜- ── + ────⎟ ⎥⎥\n",
       "         ⎝  2     2  ⎠ ⎦⎦"
      ]
     },
     "execution_count": 10,
     "metadata": {},
     "output_type": "execute_result"
    }
   ],
   "source": [
    "evaluatedJacobians"
   ]
  },
  {
   "cell_type": "code",
   "execution_count": 11,
   "metadata": {},
   "outputs": [
    {
     "name": "stdout",
     "output_type": "stream",
     "text": [
      "{-2: 1, -4: 1}\n",
      "{-1: 1, 1: 1}\n",
      "{-2: 1, -4: 1}\n",
      "{4: 1, 2: 1}\n",
      "{4: 1, 2: 1}\n",
      "{-2*sqrt(2)*I: 1, 2*sqrt(2)*I: 1}\n",
      "{-2*sqrt(2)*I: 1, 2*sqrt(2)*I: 1}\n",
      "{-2*sqrt(2)*I: 1, 2*sqrt(2)*I: 1}\n",
      "{-2*sqrt(2)*I: 1, 2*sqrt(2)*I: 1}\n"
     ]
    }
   ],
   "source": [
    "for i in range(0,len(eqpts)):\n",
    "    print(evaluatedJacobians[i].eigenvals())"
   ]
  },
  {
   "cell_type": "code",
   "execution_count": 12,
   "metadata": {
    "scrolled": true
   },
   "outputs": [
    {
     "name": "stdout",
     "output_type": "stream",
     "text": [
      "Eq. Pt. 1:\n"
     ]
    },
    {
     "data": {
      "image/png": "[encoded data removed]",
      "text/latex": [
       "$\\displaystyle \\left\\{ -4 : 1, \\  -2 : 1\\right\\}$"
      ],
      "text/plain": [
       "{-4: 1, -2: 1}"
      ]
     },
     "execution_count": 12,
     "metadata": {},
     "output_type": "execute_result"
    }
   ],
   "source": [
    "print('Eq. Pt. 1 Eigenvales:')\n",
    "evaluatedJacobians[0].eigenvals()"
   ]
  },
  {
   "cell_type": "code",
   "execution_count": 13,
   "metadata": {
    "scrolled": false
   },
   "outputs": [
    {
     "name": "stdout",
     "output_type": "stream",
     "text": [
      "Eq. Pt. 2:\n"
     ]
    },
    {
     "data": {
      "image/png": "[encoded data removed]",
      "text/latex": [
       "$\\displaystyle \\left\\{ -1 : 1, \\  1 : 1\\right\\}$"
      ],
      "text/plain": [
       "{-1: 1, 1: 1}"
      ]
     },
     "execution_count": 13,
     "metadata": {},
     "output_type": "execute_result"
    }
   ],
   "source": [
    "print('Eq. Pt. 2 Eigenvales:')\n",
    "evaluatedJacobians[1].eigenvals()"
   ]
  },
  {
   "cell_type": "code",
   "execution_count": 14,
   "metadata": {
    "scrolled": true
   },
   "outputs": [
    {
     "name": "stdout",
     "output_type": "stream",
     "text": [
      "Eq. Pt. 3:\n"
     ]
    },
    {
     "data": {
      "image/png": "[encoded data removed]",
      "text/latex": [
       "$\\displaystyle \\left\\{ -4 : 1, \\  -2 : 1\\right\\}$"
      ],
      "text/plain": [
       "{-4: 1, -2: 1}"
      ]
     },
     "execution_count": 14,
     "metadata": {},
     "output_type": "execute_result"
    }
   ],
   "source": [
    "print('Eq. Pt. 3 Eigenvales:')\n",
    "evaluatedJacobians[2].eigenvals()"
   ]
  },
  {
   "cell_type": "code",
   "execution_count": 15,
   "metadata": {},
   "outputs": [
    {
     "name": "stdout",
     "output_type": "stream",
     "text": [
      "Eq. Pt. 4:\n"
     ]
    },
    {
     "data": {
      "image/png": "[encoded data removed]",
      "text/latex": [
       "$\\displaystyle \\left\\{ 2 : 1, \\  4 : 1\\right\\}$"
      ],
      "text/plain": [
       "{2: 1, 4: 1}"
      ]
     },
     "execution_count": 15,
     "metadata": {},
     "output_type": "execute_result"
    }
   ],
   "source": [
    "print('Eq. Pt. 4 Eigenvales:')\n",
    "evaluatedJacobians[3].eigenvals()"
   ]
  },
  {
   "cell_type": "code",
   "execution_count": 16,
   "metadata": {
    "scrolled": true
   },
   "outputs": [
    {
     "name": "stdout",
     "output_type": "stream",
     "text": [
      "Eq. Pt. 5:\n"
     ]
    },
    {
     "data": {
      "image/png": "[encoded data removed]",
      "text/latex": [
       "$\\displaystyle \\left\\{ 2 : 1, \\  4 : 1\\right\\}$"
      ],
      "text/plain": [
       "{2: 1, 4: 1}"
      ]
     },
     "execution_count": 16,
     "metadata": {},
     "output_type": "execute_result"
    }
   ],
   "source": [
    "print('Eq. Pt. 5 Eigenvales:')\n",
    "evaluatedJacobians[4].eigenvals()"
   ]
  },
  {
   "cell_type": "code",
   "execution_count": 17,
   "metadata": {
    "scrolled": true
   },
   "outputs": [
    {
     "name": "stdout",
     "output_type": "stream",
     "text": [
      "Eq. Pt. 6:\n"
     ]
    },
    {
     "data": {
      "image/png": "[encoded data removed]",
      "text/latex": [
       "$\\displaystyle \\left\\{ - 2 \\sqrt{2} i : 1, \\  2 \\sqrt{2} i : 1\\right\\}$"
      ],
      "text/plain": [
       "{-2⋅√2⋅ⅈ: 1, 2⋅√2⋅ⅈ: 1}"
      ]
     },
     "execution_count": 17,
     "metadata": {},
     "output_type": "execute_result"
    }
   ],
   "source": [
    "print('Eq. Pt. 6 Eigenvales:')\n",
    "evaluatedJacobians[5].eigenvals()"
   ]
  },
  {
   "cell_type": "code",
   "execution_count": 18,
   "metadata": {},
   "outputs": [
    {
     "name": "stdout",
     "output_type": "stream",
     "text": [
      "Eq. Pt. 7:\n"
     ]
    },
    {
     "data": {
      "image/png": "[encoded data removed]",
      "text/latex": [
       "$\\displaystyle \\left\\{ - 2 \\sqrt{2} i : 1, \\  2 \\sqrt{2} i : 1\\right\\}$"
      ],
      "text/plain": [
       "{-2⋅√2⋅ⅈ: 1, 2⋅√2⋅ⅈ: 1}"
      ]
     },
     "execution_count": 18,
     "metadata": {},
     "output_type": "execute_result"
    }
   ],
   "source": [
    "print('Eq. Pt. 7 Eigenvales:')\n",
    "evaluatedJacobians[6].eigenvals()"
   ]
  },
  {
   "cell_type": "code",
   "execution_count": 19,
   "metadata": {},
   "outputs": [
    {
     "name": "stdout",
     "output_type": "stream",
     "text": [
      "Eq. Pt. 8:\n"
     ]
    },
    {
     "data": {
      "image/png": "[encoded data removed]",
      "text/latex": [
       "$\\displaystyle \\left\\{ - 2 \\sqrt{2} i : 1, \\  2 \\sqrt{2} i : 1\\right\\}$"
      ],
      "text/plain": [
       "{-2⋅√2⋅ⅈ: 1, 2⋅√2⋅ⅈ: 1}"
      ]
     },
     "execution_count": 19,
     "metadata": {},
     "output_type": "execute_result"
    }
   ],
   "source": [
    "print('Eq. Pt. 8 Eigenvales:')\n",
    "evaluatedJacobians[7].eigenvals()"
   ]
  },
  {
   "cell_type": "code",
   "execution_count": 20,
   "metadata": {},
   "outputs": [
    {
     "name": "stdout",
     "output_type": "stream",
     "text": [
      "Eq. Pt. 9:\n"
     ]
    },
    {
     "data": {
      "image/png": "[encoded data removed]",
      "text/latex": [
       "$\\displaystyle \\left\\{ - 2 \\sqrt{2} i : 1, \\  2 \\sqrt{2} i : 1\\right\\}$"
      ],
      "text/plain": [
       "{-2⋅√2⋅ⅈ: 1, 2⋅√2⋅ⅈ: 1}"
      ]
     },
     "execution_count": 20,
     "metadata": {},
     "output_type": "execute_result"
    }
   ],
   "source": [
    "print('Eq. Pt. 9 Eigenvales:')\n",
    "evaluatedJacobians[8].eigenvals()"
   ]
  },
  {
   "cell_type": "markdown",
   "metadata": {},
   "source": [
    "| Index | Eigenvalues | Eq. Pt. Type |\n",
    "|-------|--------------------------------|------------- |\n",
    "| 1     | (-2,-4) | Stable Node |\n",
    "| 2     | (-1,1) | Unstable Saddle Point |\n",
    "| 3     | (-2,-4) | Stable Node |\n",
    "| 4     | (4,2) | Unstable Node |\n",
    "| 5     | (4,2) | Unstable Node |\n",
    "| 6     | (-2 * sqrt(2) * i, 2 * sqrt(2) * i) | Center |\n",
    "| 7     | (-2 * sqrt(2) * i, 2 * sqrt(2) * i) | Center |\n",
    "| 8     | (-2 * sqrt(2) * i, 2 * sqrt(2) * i) | Center |\n",
    "| 9     | (-2 * sqrt(2) * i, 2 * sqrt(2) * i) | Center |"
   ]
  }
 ],
 "metadata": {
  "kernelspec": {
   "display_name": "Python 3",
   "language": "python",
   "name": "python3"
  },
  "language_info": {
   "codemirror_mode": {
    "name": "ipython",
    "version": 3
   },
   "file_extension": ".py",
   "mimetype": "text/x-python",
   "name": "python",
   "nbconvert_exporter": "python",
   "pygments_lexer": "ipython3",
   "version": "3.8.5"
  }
 },
 "nbformat": 4,
 "nbformat_minor": 4
}
