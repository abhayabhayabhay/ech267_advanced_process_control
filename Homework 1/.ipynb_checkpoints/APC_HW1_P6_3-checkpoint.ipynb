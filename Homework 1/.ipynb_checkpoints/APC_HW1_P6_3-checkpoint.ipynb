{
 "cells": [
  {
   "cell_type": "code",
   "execution_count": 1,
   "metadata": {},
   "outputs": [],
   "source": [
    "import sympy as sm\n",
    "import sympy.physics.mechanics as me\n",
    "me.init_vprinting()\n",
    "x1, x2 = me.dynamicsymbols('x_1 x_2')"
   ]
  },
  {
   "cell_type": "markdown",
   "metadata": {},
   "source": [
    "# Problem 6-3"
   ]
  },
  {
   "cell_type": "markdown",
   "metadata": {},
   "source": [
    "Define RHS of x1_dot and x2_dot "
   ]
  },
  {
   "cell_type": "code",
   "execution_count": 2,
   "metadata": {
    "scrolled": false
   },
   "outputs": [],
   "source": [
    "rhs1 = (1-x1)*x1 - (2*x1*x2)/(1+x1)\n",
    "rhs2 = (2-(x2/(1+x1)))*x2\n",
    "\n",
    "# define equations x_dot = 0\n",
    "eq1 = sm.Eq(0, rhs1)\n",
    "eq2 = sm.Eq(0, rhs2)"
   ]
  },
  {
   "cell_type": "markdown",
   "metadata": {},
   "source": [
    "Equilibrium Equations, x_dot = 0 = f(x)"
   ]
  },
  {
   "cell_type": "code",
   "execution_count": 3,
   "metadata": {
    "scrolled": true
   },
   "outputs": [
    {
     "name": "stdout",
     "output_type": "stream",
     "text": [
      "Equation 1:\n"
     ]
    },
    {
     "data": {
      "image/png": "[encoded data removed]",
      "text/latex": [
       "$\\displaystyle 0 = \\left(1 - x_{1}\\right) x_{1} - \\frac{2 x_{1} x_{2}}{x_{1} + 1}$"
      ],
      "text/plain": [
       "                  2⋅x₁⋅x₂\n",
       "0 = (1 - x₁)⋅x₁ - ───────\n",
       "                   x₁ + 1"
      ]
     },
     "execution_count": 3,
     "metadata": {},
     "output_type": "execute_result"
    }
   ],
   "source": [
    "print('Equation 1:')\n",
    "\n",
    "eq1"
   ]
  },
  {
   "cell_type": "code",
   "execution_count": 4,
   "metadata": {
    "scrolled": false
   },
   "outputs": [
    {
     "name": "stdout",
     "output_type": "stream",
     "text": [
      "Equation 2:\n"
     ]
    },
    {
     "data": {
      "image/png": "[encoded data removed]",
      "text/latex": [
       "$\\displaystyle 0 = \\left(2 - \\frac{x_{2}}{x_{1} + 1}\\right) x_{2}$"
      ],
      "text/plain": [
       "    ⎛      x₂  ⎞   \n",
       "0 = ⎜2 - ──────⎟⋅x₂\n",
       "    ⎝    x₁ + 1⎠   "
      ]
     },
     "execution_count": 4,
     "metadata": {},
     "output_type": "execute_result"
    }
   ],
   "source": [
    "print('Equation 2:')\n",
    "eq2"
   ]
  },
  {
   "cell_type": "markdown",
   "metadata": {},
   "source": [
    "Solve x_dot = 0 = f(x) for set of equilibrium points \n"
   ]
  },
  {
   "cell_type": "code",
   "execution_count": 5,
   "metadata": {},
   "outputs": [],
   "source": [
    "eqpts = sm.solve([eq1, eq2], x1, x2)"
   ]
  },
  {
   "cell_type": "code",
   "execution_count": 6,
   "metadata": {},
   "outputs": [
    {
     "name": "stdout",
     "output_type": "stream",
     "text": [
      "Equilbrium Points: \n"
     ]
    },
    {
     "data": {
      "image/png": "[encoded data removed]",
      "text/latex": [
       "$\\displaystyle \\left[ \\left\\{ x_{1} : -3, \\  x_{2} : -4\\right\\}, \\  \\left\\{ x_{1} : 0, \\  x_{2} : 0\\right\\}, \\  \\left\\{ x_{1} : 0, \\  x_{2} : 2\\right\\}, \\  \\left\\{ x_{1} : 1, \\  x_{2} : 0\\right\\}\\right]$"
      ],
      "text/plain": [
       "[{x₁: -3, x₂: -4}, {x₁: 0, x₂: 0}, {x₁: 0, x₂: 2}, {x₁: 1, x₂: 0}]"
      ]
     },
     "execution_count": 6,
     "metadata": {},
     "output_type": "execute_result"
    }
   ],
   "source": [
    "print('Equilbrium Points: ')\n",
    "eqpts"
   ]
  },
  {
   "cell_type": "markdown",
   "metadata": {},
   "source": [
    "Solve for jacobian, J, of state space equations "
   ]
  },
  {
   "cell_type": "code",
   "execution_count": 7,
   "metadata": {},
   "outputs": [],
   "source": [
    "X = sm.Matrix([[rhs1], [rhs2]])\n",
    "Y = sm.Matrix([x1, x2])\n",
    "J = X.jacobian(Y)"
   ]
  },
  {
   "cell_type": "code",
   "execution_count": 8,
   "metadata": {
    "scrolled": false
   },
   "outputs": [
    {
     "name": "stdout",
     "output_type": "stream",
     "text": [
      "Jacobian: \n"
     ]
    },
    {
     "data": {
      "text/latex": [
       "$\\displaystyle \\left[\\begin{matrix}- 2 x_{1} + 1 - \\frac{2 x_{2}}{x_{1} + 1} + \\frac{2 x_{1} x_{2}}{\\left(x_{1} + 1\\right)^{2}} & - \\frac{2 x_{1}}{x_{1} + 1}\\\\\\frac{x^{2}_{2}}{\\left(x_{1} + 1\\right)^{2}} & 2 - \\frac{2 x_{2}}{x_{1} + 1}\\end{matrix}\\right]$"
      ],
      "text/plain": [
       "⎡             2⋅x₂     2⋅x₁⋅x₂     -2⋅x₁   ⎤\n",
       "⎢-2⋅x₁ + 1 - ────── + ─────────    ──────  ⎥\n",
       "⎢            x₁ + 1           2    x₁ + 1  ⎥\n",
       "⎢                     (x₁ + 1)             ⎥\n",
       "⎢                                          ⎥\n",
       "⎢               2                          ⎥\n",
       "⎢             x₂                      2⋅x₂ ⎥\n",
       "⎢          ─────────             2 - ──────⎥\n",
       "⎢                  2                 x₁ + 1⎥\n",
       "⎣          (x₁ + 1)                        ⎦"
      ]
     },
     "execution_count": 8,
     "metadata": {},
     "output_type": "execute_result"
    }
   ],
   "source": [
    "print('Jacobian: ')\n",
    "J"
   ]
  },
  {
   "cell_type": "code",
   "execution_count": 9,
   "metadata": {},
   "outputs": [],
   "source": [
    "evaluatedJacobians = []\n",
    "for point in eqpts:\n",
    "    jeval = J.subs(point)\n",
    "    evaluatedJacobians.append(jeval)"
   ]
  },
  {
   "cell_type": "code",
   "execution_count": 10,
   "metadata": {
    "scrolled": false
   },
   "outputs": [
    {
     "data": {
      "text/latex": [
       "$\\displaystyle \\left[ \\left[\\begin{matrix}9 & -3\\\\4 & -2\\end{matrix}\\right], \\  \\left[\\begin{matrix}1 & 0\\\\0 & 2\\end{matrix}\\right], \\  \\left[\\begin{matrix}-3 & 0\\\\4 & -2\\end{matrix}\\right], \\  \\left[\\begin{matrix}-1 & -1\\\\0 & 2\\end{matrix}\\right]\\right]$"
      ],
      "text/plain": [
       "⎡⎡9  -3⎤  ⎡1  0⎤  ⎡-3  0 ⎤  ⎡-1  -1⎤⎤\n",
       "⎢⎢     ⎥, ⎢    ⎥, ⎢      ⎥, ⎢      ⎥⎥\n",
       "⎣⎣4  -2⎦  ⎣0  2⎦  ⎣4   -2⎦  ⎣0   2 ⎦⎦"
      ]
     },
     "execution_count": 10,
     "metadata": {},
     "output_type": "execute_result"
    }
   ],
   "source": [
    "evaluatedJacobians"
   ]
  },
  {
   "cell_type": "code",
   "execution_count": 11,
   "metadata": {},
   "outputs": [
    {
     "name": "stdout",
     "output_type": "stream",
     "text": [
      "{7/2 - sqrt(73)/2: 1, 7/2 + sqrt(73)/2: 1}\n",
      "{1: 1, 2: 1}\n",
      "{-3: 1, -2: 1}\n",
      "{-1: 1, 2: 1}\n"
     ]
    }
   ],
   "source": [
    "for i in range(0,len(eqpts)):\n",
    "    print(evaluatedJacobians[i].eigenvals())"
   ]
  },
  {
   "cell_type": "code",
   "execution_count": 12,
   "metadata": {},
   "outputs": [
    {
     "name": "stdout",
     "output_type": "stream",
     "text": [
      "Eq. Pt. 1:\n"
     ]
    },
    {
     "data": {
      "image/png": "[encoded data removed]",
      "text/latex": [
       "$\\displaystyle \\left\\{ \\frac{7}{2} - \\frac{\\sqrt{73}}{2} : 1, \\  \\frac{7}{2} + \\frac{\\sqrt{73}}{2} : 1\\right\\}$"
      ],
      "text/plain": [
       "⎧7   √73     7   √73   ⎫\n",
       "⎨─ - ───: 1, ─ + ───: 1⎬\n",
       "⎩2    2      2    2    ⎭"
      ]
     },
     "execution_count": 12,
     "metadata": {},
     "output_type": "execute_result"
    }
   ],
   "source": [
    "print('Eq. Pt. 1 Eigenvalues:')\n",
    "evaluatedJacobians[0].eigenvals()"
   ]
  },
  {
   "cell_type": "code",
   "execution_count": 13,
   "metadata": {},
   "outputs": [
    {
     "name": "stdout",
     "output_type": "stream",
     "text": [
      "Eq. Pt. 2:\n"
     ]
    },
    {
     "data": {
      "image/png": "[encoded data removed]",
      "text/latex": [
       "$\\displaystyle \\left\\{ 1 : 1, \\  2 : 1\\right\\}$"
      ],
      "text/plain": [
       "{1: 1, 2: 1}"
      ]
     },
     "execution_count": 13,
     "metadata": {},
     "output_type": "execute_result"
    }
   ],
   "source": [
    "print('Eq. Pt. 2 Eigenvalues:')\n",
    "evaluatedJacobians[1].eigenvals()"
   ]
  },
  {
   "cell_type": "code",
   "execution_count": 14,
   "metadata": {},
   "outputs": [
    {
     "name": "stdout",
     "output_type": "stream",
     "text": [
      "Eq. Pt. 3:\n"
     ]
    },
    {
     "data": {
      "image/png": "[encoded data removed]",
      "text/latex": [
       "$\\displaystyle \\left\\{ -3 : 1, \\  -2 : 1\\right\\}$"
      ],
      "text/plain": [
       "{-3: 1, -2: 1}"
      ]
     },
     "execution_count": 14,
     "metadata": {},
     "output_type": "execute_result"
    }
   ],
   "source": [
    "print('Eq. Pt. 3 Eigenvalues:')\n",
    "evaluatedJacobians[2].eigenvals()"
   ]
  },
  {
   "cell_type": "code",
   "execution_count": 15,
   "metadata": {},
   "outputs": [
    {
     "name": "stdout",
     "output_type": "stream",
     "text": [
      "Eq. Pt. 4:\n"
     ]
    },
    {
     "data": {
      "image/png": "[encoded data removed]",
      "text/latex": [
       "$\\displaystyle \\left\\{ -1 : 1, \\  2 : 1\\right\\}$"
      ],
      "text/plain": [
       "{-1: 1, 2: 1}"
      ]
     },
     "execution_count": 15,
     "metadata": {},
     "output_type": "execute_result"
    }
   ],
   "source": [
    "print('Eq. Pt. 4 Eigenvalues:')\n",
    "evaluatedJacobians[3].eigenvals()"
   ]
  },
  {
   "cell_type": "markdown",
   "metadata": {},
   "source": [
    "| Index | Eigenvalues | Eq. Pt. Type |\n",
    "|-------|--------------------------------|------------- |\n",
    "| 1     | (7/2 - sqrt(73)/2, 7/2 + sqrt(73)/2) | Focus |\n",
    "| 2     | (1,2) | Node |\n",
    "| 3     | (-3,-2) | Node |\n",
    "| 4     | (-1,2) | Saddle |\n"
   ]
  }
 ],
 "metadata": {
  "kernelspec": {
   "display_name": "Python 3",
   "language": "python",
   "name": "python3"
  },
  "language_info": {
   "codemirror_mode": {
    "name": "ipython",
    "version": 3
   },
   "file_extension": ".py",
   "mimetype": "text/x-python",
   "name": "python",
   "nbconvert_exporter": "python",
   "pygments_lexer": "ipython3",
   "version": "3.8.5"
  }
 },
 "nbformat": 4,
 "nbformat_minor": 4
}
