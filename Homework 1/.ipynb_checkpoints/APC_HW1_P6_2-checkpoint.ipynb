{
 "cells": [
  {
   "cell_type": "code",
   "execution_count": 1,
   "metadata": {},
   "outputs": [],
   "source": [
    "import sympy as sm\n",
    "import sympy.physics.mechanics as me\n",
    "me.init_vprinting()\n",
    "x1, x2 = me.dynamicsymbols('x_1 x_2')"
   ]
  },
  {
   "cell_type": "markdown",
   "metadata": {},
   "source": [
    "# Problem 6-2"
   ]
  },
  {
   "cell_type": "markdown",
   "metadata": {},
   "source": [
    "Define RHS of x1_dot and x2_dot "
   ]
  },
  {
   "cell_type": "code",
   "execution_count": 2,
   "metadata": {
    "scrolled": false
   },
   "outputs": [],
   "source": [
    "rhs1 = -x1 + x2\n",
    "rhs2 = 0.1*x1 - 2*x2 - x1**2 - 0.1*x1**3\n",
    "\n",
    "# define equations x_dot = 0\n",
    "eq1 = sm.Eq(0, rhs1)\n",
    "eq2 = sm.Eq(0, rhs2)"
   ]
  },
  {
   "cell_type": "markdown",
   "metadata": {},
   "source": [
    "Equilibrium Equations, x_dot = 0 = f(x)"
   ]
  },
  {
   "cell_type": "code",
   "execution_count": 3,
   "metadata": {
    "scrolled": true
   },
   "outputs": [
    {
     "name": "stdout",
     "output_type": "stream",
     "text": [
      "Equation 1:\n"
     ]
    },
    {
     "data": {
      "image/png": "[encoded data removed]",
      "text/latex": [
       "$\\displaystyle 0 = - x_{1} + x_{2}$"
      ],
      "text/plain": [
       "0 = -x₁ + x₂"
      ]
     },
     "execution_count": 3,
     "metadata": {},
     "output_type": "execute_result"
    }
   ],
   "source": [
    "print('Equation 1:')\n",
    "\n",
    "eq1"
   ]
  },
  {
   "cell_type": "code",
   "execution_count": 4,
   "metadata": {
    "scrolled": false
   },
   "outputs": [
    {
     "name": "stdout",
     "output_type": "stream",
     "text": [
      "Equation 2:\n"
     ]
    },
    {
     "data": {
      "image/png": "[encoded data removed]",
      "text/latex": [
       "$\\displaystyle 0 = - 0.1 x^{3}_{1} - x^{2}_{1} + 0.1 x_{1} - 2 x_{2}$"
      ],
      "text/plain": [
       "            3     2                \n",
       "0 = - 0.1⋅x₁  - x₁  + 0.1⋅x₁ - 2⋅x₂"
      ]
     },
     "execution_count": 4,
     "metadata": {},
     "output_type": "execute_result"
    }
   ],
   "source": [
    "print('Equation 2:')\n",
    "eq2"
   ]
  },
  {
   "cell_type": "markdown",
   "metadata": {},
   "source": [
    "Solve x_dot = 0 = f(x) for set of equilibrium points \n"
   ]
  },
  {
   "cell_type": "code",
   "execution_count": 5,
   "metadata": {},
   "outputs": [],
   "source": [
    "eqpts = sm.solve([eq1, eq2], x1, x2)"
   ]
  },
  {
   "cell_type": "code",
   "execution_count": 6,
   "metadata": {},
   "outputs": [
    {
     "name": "stdout",
     "output_type": "stream",
     "text": [
      "Equilbrium Points: \n"
     ]
    },
    {
     "data": {
      "image/png": "[encoded data removed]",
      "text/latex": [
       "$\\displaystyle \\left[ \\left\\{ x_{1} : -7.44948974278318, \\  x_{2} : -7.44948974278318\\right\\}, \\  \\left\\{ x_{1} : -2.55051025721682, \\  x_{2} : -2.55051025721682\\right\\}, \\  \\left\\{ x_{1} : 0.0, \\  x_{2} : 0.0\\right\\}\\right]$"
      ],
      "text/plain": [
       "[{x₁: -7.44948974278318, x₂: -7.44948974278318}, {x₁: -2.55051025721682, x₂: -\n",
       "2.55051025721682}, {x₁: 0.0, x₂: 0.0}]"
      ]
     },
     "execution_count": 6,
     "metadata": {},
     "output_type": "execute_result"
    }
   ],
   "source": [
    "print('Equilbrium Points: ')\n",
    "eqpts"
   ]
  },
  {
   "cell_type": "markdown",
   "metadata": {},
   "source": [
    "Solve for jacobian, J, of state space equations "
   ]
  },
  {
   "cell_type": "code",
   "execution_count": 7,
   "metadata": {},
   "outputs": [],
   "source": [
    "X = sm.Matrix([[rhs1], [rhs2]])\n",
    "Y = sm.Matrix([x1, x2])\n",
    "J = X.jacobian(Y)"
   ]
  },
  {
   "cell_type": "code",
   "execution_count": 8,
   "metadata": {
    "scrolled": false
   },
   "outputs": [
    {
     "name": "stdout",
     "output_type": "stream",
     "text": [
      "Jacobian: \n"
     ]
    },
    {
     "data": {
      "text/latex": [
       "$\\displaystyle \\left[\\begin{matrix}-1 & 1\\\\- 0.3 x^{2}_{1} - 2 x_{1} + 0.1 & -2\\end{matrix}\\right]$"
      ],
      "text/plain": [
       "⎡          -1            1 ⎤\n",
       "⎢                          ⎥\n",
       "⎢        2                 ⎥\n",
       "⎣- 0.3⋅x₁  - 2⋅x₁ + 0.1  -2⎦"
      ]
     },
     "execution_count": 8,
     "metadata": {},
     "output_type": "execute_result"
    }
   ],
   "source": [
    "print('Jacobian: ')\n",
    "J"
   ]
  },
  {
   "cell_type": "code",
   "execution_count": 9,
   "metadata": {},
   "outputs": [],
   "source": [
    "evaluatedJacobians = []\n",
    "for point in eqpts:\n",
    "    jeval = J.subs(point)\n",
    "    evaluatedJacobians.append(jeval)"
   ]
  },
  {
   "cell_type": "code",
   "execution_count": 10,
   "metadata": {
    "scrolled": false
   },
   "outputs": [
    {
     "data": {
      "text/latex": [
       "$\\displaystyle \\left[ \\left[\\begin{matrix}-1 & 1\\\\-1.64948974278318 & -2\\end{matrix}\\right], \\  \\left[\\begin{matrix}-1 & 1\\\\3.24948974278318 & -2\\end{matrix}\\right], \\  \\left[\\begin{matrix}-1 & 1\\\\0.1 & -2\\end{matrix}\\right]\\right]$"
      ],
      "text/plain": [
       "⎡⎡       -1          1 ⎤  ⎡       -1         1 ⎤  ⎡-1   1 ⎤⎤\n",
       "⎢⎢                     ⎥, ⎢                    ⎥, ⎢       ⎥⎥\n",
       "⎣⎣-1.64948974278318  -2⎦  ⎣3.24948974278318  -2⎦  ⎣0.1  -2⎦⎦"
      ]
     },
     "execution_count": 10,
     "metadata": {},
     "output_type": "execute_result"
    }
   ],
   "source": [
    "evaluatedJacobians"
   ]
  },
  {
   "cell_type": "code",
   "execution_count": 11,
   "metadata": {},
   "outputs": [
    {
     "name": "stdout",
     "output_type": "stream",
     "text": [
      "{-1.5 - 1.18300031394044*I: 1, -1.5 + 1.18300031394044*I: 1}\n",
      "{0.370692316438804: 1, -3.37069231643880: 1}\n",
      "{-0.908392021690038: 1, -2.09160797830996: 1}\n"
     ]
    }
   ],
   "source": [
    "for i in range(0,len(eqpts)):\n",
    "    print(evaluatedJacobians[i].eigenvals())"
   ]
  },
  {
   "cell_type": "code",
   "execution_count": 12,
   "metadata": {},
   "outputs": [
    {
     "name": "stdout",
     "output_type": "stream",
     "text": [
      "Eq. Pt. 1:\n"
     ]
    },
    {
     "data": {
      "image/png": "[encoded data removed]",
      "text/latex": [
       "$\\displaystyle \\left\\{ -1.5 - 1.18300031394044 i : 1, \\  -1.5 + 1.18300031394044 i : 1\\right\\}$"
      ],
      "text/plain": [
       "{-1.5 - 1.18300031394044⋅ⅈ: 1, -1.5 + 1.18300031394044⋅ⅈ: 1}"
      ]
     },
     "execution_count": 12,
     "metadata": {},
     "output_type": "execute_result"
    }
   ],
   "source": [
    "print('Eq. Pt. 1:')\n",
    "evaluatedJacobians[0].eigenvals()"
   ]
  },
  {
   "cell_type": "code",
   "execution_count": 13,
   "metadata": {},
   "outputs": [
    {
     "name": "stdout",
     "output_type": "stream",
     "text": [
      "Eq. Pt. 2:\n"
     ]
    },
    {
     "data": {
      "image/png": "[encoded data removed]",
      "text/latex": [
       "$\\displaystyle \\left\\{ -3.3706923164388 : 1, \\  0.370692316438804 : 1\\right\\}$"
      ],
      "text/plain": [
       "{-3.3706923164388: 1, 0.370692316438804: 1}"
      ]
     },
     "execution_count": 13,
     "metadata": {},
     "output_type": "execute_result"
    }
   ],
   "source": [
    "print('Eq. Pt. 2:')\n",
    "evaluatedJacobians[1].eigenvals()"
   ]
  },
  {
   "cell_type": "code",
   "execution_count": 14,
   "metadata": {},
   "outputs": [
    {
     "name": "stdout",
     "output_type": "stream",
     "text": [
      "Eq. Pt. 3:\n"
     ]
    },
    {
     "data": {
      "image/png": "[encoded data removed]",
      "text/latex": [
       "$\\displaystyle \\left\\{ -2.09160797830996 : 1, \\  -0.908392021690038 : 1\\right\\}$"
      ],
      "text/plain": [
       "{-2.09160797830996: 1, -0.908392021690038: 1}"
      ]
     },
     "execution_count": 14,
     "metadata": {},
     "output_type": "execute_result"
    }
   ],
   "source": [
    "print('Eq. Pt. 3:')\n",
    "evaluatedJacobians[2].eigenvals()"
   ]
  },
  {
   "cell_type": "markdown",
   "metadata": {},
   "source": [
    "| Index | Equilibrium Point | Eq. Pt. Type |\n",
    "|-------|--------------------------------|------------- |\n",
    "| 1     | (−1.5−1.1830i, −1.5+1.1830i) | Focus  |\n",
    "| 2     | (−3.3707, 0.3707) | Saddle |\n",
    "| 3     | (−2.0916,−0.9084) | Node |"
   ]
  }
 ],
 "metadata": {
  "kernelspec": {
   "display_name": "Python 3",
   "language": "python",
   "name": "python3"
  },
  "language_info": {
   "codemirror_mode": {
    "name": "ipython",
    "version": 3
   },
   "file_extension": ".py",
   "mimetype": "text/x-python",
   "name": "python",
   "nbconvert_exporter": "python",
   "pygments_lexer": "ipython3",
   "version": "3.8.5"
  }
 },
 "nbformat": 4,
 "nbformat_minor": 4
}
