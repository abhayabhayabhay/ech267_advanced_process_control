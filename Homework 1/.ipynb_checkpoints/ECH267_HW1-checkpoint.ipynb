{
 "cells": [
  {
   "cell_type": "markdown",
   "metadata": {},
   "source": [
    "## Problem 7.1"
   ]
  },
  {
   "cell_type": "code",
   "execution_count": 30,
   "metadata": {
    "scrolled": true
   },
   "outputs": [
    {
     "ename": "TypeError",
     "evalue": "'NoneType' object is not callable",
     "output_type": "error",
     "traceback": [
      "\u001b[1;31m---------------------------------------------------------------------------\u001b[0m",
      "\u001b[1;31mTypeError\u001b[0m                                 Traceback (most recent call last)",
      "\u001b[1;32m<ipython-input-30-dbf5ed2a5422>\u001b[0m in \u001b[0;36m<module>\u001b[1;34m\u001b[0m\n\u001b[0;32m     36\u001b[0m \u001b[1;33m\u001b[0m\u001b[0m\n\u001b[0;32m     37\u001b[0m \u001b[0mfig\u001b[0m\u001b[1;33m,\u001b[0m \u001b[1;33m(\u001b[0m\u001b[0max1\u001b[0m\u001b[1;33m,\u001b[0m \u001b[0max2\u001b[0m\u001b[1;33m)\u001b[0m \u001b[1;33m=\u001b[0m \u001b[0mplt\u001b[0m\u001b[1;33m.\u001b[0m\u001b[0msubplots\u001b[0m\u001b[1;33m(\u001b[0m\u001b[1;36m1\u001b[0m\u001b[1;33m,\u001b[0m \u001b[1;36m2\u001b[0m\u001b[1;33m)\u001b[0m\u001b[1;33m\u001b[0m\u001b[1;33m\u001b[0m\u001b[0m\n\u001b[1;32m---> 38\u001b[1;33m \u001b[0mfig\u001b[0m\u001b[1;33m.\u001b[0m\u001b[0mfigure\u001b[0m\u001b[1;33m(\u001b[0m\u001b[0mfigsize\u001b[0m\u001b[1;33m=\u001b[0m\u001b[1;33m(\u001b[0m\u001b[1;36m8\u001b[0m\u001b[1;33m,\u001b[0m\u001b[1;36m6\u001b[0m\u001b[1;33m)\u001b[0m\u001b[1;33m)\u001b[0m\u001b[1;33m\u001b[0m\u001b[1;33m\u001b[0m\u001b[0m\n\u001b[0m\u001b[0;32m     39\u001b[0m \u001b[0max1\u001b[0m\u001b[1;33m.\u001b[0m\u001b[0mstreamplot\u001b[0m\u001b[1;33m(\u001b[0m\u001b[0mx1\u001b[0m\u001b[1;33m,\u001b[0m \u001b[0mx2\u001b[0m\u001b[1;33m,\u001b[0m \u001b[0mx1d\u001b[0m\u001b[1;33m,\u001b[0m \u001b[0mx2d\u001b[0m\u001b[1;33m,\u001b[0m \u001b[0mdensity\u001b[0m\u001b[1;33m=\u001b[0m\u001b[1;33m[\u001b[0m\u001b[1;36m0.95\u001b[0m\u001b[1;33m,\u001b[0m \u001b[1;36m1\u001b[0m\u001b[1;33m]\u001b[0m\u001b[1;33m)\u001b[0m\u001b[1;33m\u001b[0m\u001b[1;33m\u001b[0m\u001b[0m\n\u001b[0;32m     40\u001b[0m \u001b[0max1\u001b[0m\u001b[1;33m.\u001b[0m\u001b[0mxlim\u001b[0m\u001b[1;33m(\u001b[0m\u001b[1;33m[\u001b[0m\u001b[1;33m-\u001b[0m\u001b[1;36m1\u001b[0m\u001b[1;33m,\u001b[0m \u001b[1;36m1\u001b[0m\u001b[1;33m]\u001b[0m\u001b[1;33m)\u001b[0m\u001b[1;33m\u001b[0m\u001b[1;33m\u001b[0m\u001b[0m\n",
      "\u001b[1;31mTypeError\u001b[0m: 'NoneType' object is not callable"
     ]
    },
    {
     "data": {
      "image/png": "[encoded data removed]",
      "text/plain": [
       "<Figure size 432x288 with 2 Axes>"
      ]
     },
     "metadata": {
      "needs_background": "light"
     },
     "output_type": "display_data"
    }
   ],
   "source": [
    "import numpy as np \n",
    "import matplotlib.pyplot as plt\n",
    "\n",
    "A = np.matrix([[0, 1],\n",
    "              [-2, -3]])\n",
    "\n",
    "eig_vec = np.linalg.eigh(A)[1]\n",
    "M = eig_vec \n",
    "Minv = np.linalg.inv(M)\n",
    "\n",
    "xx = np.arange(-1, 1, 0.1) \n",
    "yy = np.arange(-1, 1, 0.1) \n",
    "x1, x2 = np.meshgrid(xx, yy) \n",
    "z1, z2 = np.meshgrid(xx, yy) \n",
    "x = [[x1],[x2]]\n",
    "z = [[z1],[z2]]\n",
    "\n",
    "xd = np.zeros((np.size(xx),np.size(xx),2,1))\n",
    "zd = xdot\n",
    "x1d = 0*x1\n",
    "x2d = 0*x2\n",
    "z1d = 0*z1\n",
    "z2d = 0*z2\n",
    "\n",
    "for i, x1val in enumerate(xx):\n",
    "    for j, x2val in enumerate(yy):\n",
    "        xval = [[x1val],[x2val]]\n",
    "        xdot[i][j][:] = A*xval\n",
    "        x1d[i][j] = xdot[i][j][0]\n",
    "        x2d[i][j] = xdot[i][j][1]\n",
    "        \n",
    "        zval = [[x1val],[x2val]]\n",
    "        zd[i][j][:] = Minv*A*M*zval\n",
    "        z1d[i][j] = zdot[i][j][0]\n",
    "        z2d[i][j] = zdot[i][j][1]\n",
    "\n",
    "fig, (ax1, ax2) = plt.subplots(1, 2)\n",
    "# fig.figure(figsize=(8,6))\n",
    "ax1.streamplot(x1, x2, x1d, x2d, density=[0.95, 1])\n",
    "ax1.xlim([-1, 1])\n",
    "ax1.ylim([-1, 1])\n",
    "ax1.xlabel('x1')\n",
    "ax1.ylabel('x2')\n",
    "ax1.title('Problem 7.1')\n",
    "ax1.savefig(\"HW1_P7_1.png\")"
   ]
  },
  {
   "cell_type": "code",
   "execution_count": 11,
   "metadata": {},
   "outputs": [
    {
     "data": {
      "text/plain": [
       "array([[[0., 0., 0.],\n",
       "        [0., 0., 0.]],\n",
       "\n",
       "       [[0., 0., 0.],\n",
       "        [0., 0., 0.]]])"
      ]
     },
     "execution_count": 11,
     "metadata": {},
     "output_type": "execute_result"
    }
   ],
   "source": [
    "np.zeros((2,2,3))"
   ]
  },
  {
   "cell_type": "markdown",
   "metadata": {},
   "source": [
    "## Problem 9.1\n",
    "\n",
    "The system converges to "
   ]
  },
  {
   "cell_type": "code",
   "execution_count": null,
   "metadata": {},
   "outputs": [],
   "source": [
    "import numpy as np\n",
    "import matplotlib.pyplot as plt\n",
    "import matplotlib.gridspec as gridspec\n",
    "\n",
    "# creating grid  \n",
    "x = np.arange(-1, 1, 0.01) \n",
    "y = np.arange(-1, 1, 0.01) \n",
    "x1, x2 = np.meshgrid(x, y) \n",
    "\n",
    "# creating vector \n",
    "x1d = x2\n",
    "x2d = x1 - 2*np.arctan(x1+x2)\n",
    "\n",
    "plt.figure(figsize=(8,6))\n",
    "plt.streamplot(x1, x2, x1d, x2d, density=[0.95, 1])\n",
    "plt.xlim([-1, 1])\n",
    "plt.ylim([-1, 1])\n",
    "plt.xlabel('x1')\n",
    "plt.ylabel('x2')\n",
    "plt.title('Problem 9.1')\n",
    "plt.savefig(\"HW1_P9_1.png\")"
   ]
  },
  {
   "cell_type": "markdown",
   "metadata": {},
   "source": [
    "## Problem 9.2"
   ]
  },
  {
   "cell_type": "code",
   "execution_count": null,
   "metadata": {},
   "outputs": [],
   "source": [
    "import numpy as np\n",
    "import matplotlib.pyplot as plt\n",
    "import matplotlib.gridspec as gridspec\n",
    "\n",
    "# creating grid  \n",
    "x = np.arange(-1, 1, 0.01) \n",
    "y = np.arange(-1, 1, 0.01) \n",
    "x1, x2 = np.meshgrid(x, y) \n",
    "\n",
    "# creating vector \n",
    "x1d = x2\n",
    "x2d = -x1 + x2*(1 - 3*x1**2 - 2*x2**2)\n",
    "\n",
    "plt.figure(figsize=(8,6))\n",
    "plt.streamplot(x1, x2, x1d, x2d, density=[0.95, 1])\n",
    "plt.xlim([-1, 1])\n",
    "plt.ylim([-1, 1])\n",
    "plt.xlabel('x1')\n",
    "plt.ylabel('x2')\n",
    "plt.title('Problem 9.2')\n",
    "plt.savefig(\"HW1_P9_2.png\")"
   ]
  },
  {
   "cell_type": "markdown",
   "metadata": {},
   "source": [
    "## Problem 9.3"
   ]
  },
  {
   "cell_type": "code",
   "execution_count": null,
   "metadata": {},
   "outputs": [],
   "source": [
    "import numpy as np\n",
    "import matplotlib.pyplot as plt\n",
    "import matplotlib.gridspec as gridspec\n",
    "\n",
    "# creating grid  \n",
    "x = np.arange(-1, 1, 0.01) \n",
    "y = np.arange(-1, 1, 0.01) \n",
    "x1, x2 = np.meshgrid(x, y) \n",
    "\n",
    "# creating vector \n",
    "x1d = x1 - x1*x2\n",
    "x2d = 2*x1**2 - x2\n",
    "\n",
    "plt.figure(figsize=(8,6))\n",
    "plt.streamplot(x1, x2, x1d, x2d, density=[0.95, 1])\n",
    "plt.xlim([-1, 1])\n",
    "plt.ylim([-1, 1])\n",
    "plt.xlabel('x1')\n",
    "plt.ylabel('x2')\n",
    "plt.title('Problem 9.3')\n",
    "plt.savefig(\"HW1_P9_3.png\")"
   ]
  },
  {
   "cell_type": "markdown",
   "metadata": {},
   "source": [
    "## Problem 9.4"
   ]
  },
  {
   "cell_type": "code",
   "execution_count": null,
   "metadata": {},
   "outputs": [],
   "source": [
    "import numpy as np\n",
    "import matplotlib.pyplot as plt\n",
    "import matplotlib.gridspec as gridspec\n",
    "\n",
    "# creating grid  \n",
    "x = np.arange(-1, 1, 0.01) \n",
    "y = np.arange(-1, 1, 0.01) \n",
    "x1, x2 = np.meshgrid(x, y) \n",
    "\n",
    "# creating vector \n",
    "x1d = x1 + x2 - x1*(np.abs(x1) + np.abs(x2))\n",
    "x2d = -2*x1 + x2 - x2*(np.abs(x1) + np.abs(x2))\n",
    "\n",
    "plt.figure(figsize=(8,6))\n",
    "plt.streamplot(x1, x2, x1d, x2d, density=[0.95, 1])\n",
    "plt.xlim([-1, 1])\n",
    "plt.ylim([-1, 1])\n",
    "plt.xlabel('x1')\n",
    "plt.ylabel('x2')\n",
    "plt.title('Problem 9.4')\n",
    "plt.savefig(\"HW1_P9_4.png\")"
   ]
  },
  {
   "cell_type": "markdown",
   "metadata": {},
   "source": [
    "## Problem 10.1"
   ]
  },
  {
   "cell_type": "code",
   "execution_count": null,
   "metadata": {
    "scrolled": false
   },
   "outputs": [],
   "source": [
    "import numpy as np\n",
    "import matplotlib.pyplot as plt\n",
    "import matplotlib.gridspec as gridspec\n",
    "\n",
    "# creating grid  \n",
    "x = np.arange(-5.0, 5.0, 0.01) \n",
    "y = np.arange(-5.0, 5.0, 0.01) \n",
    "x1, x2 = np.meshgrid(x, y) \n",
    "\n",
    "# creating vector \n",
    "x1d = -x2\n",
    "x2d = x1 - x2*(1 - x1**2 + 0.1*x1**4)\n",
    "\n",
    "plt.figure(figsize=(8,8))\n",
    "plt.streamplot(x1, x2, x1d, x2d, density=[0.95, 1])\n",
    "plt.xlim([-5.0, 5.0])\n",
    "plt.ylim([-5.0, 5.0])\n",
    "plt.xlabel('x1')\n",
    "plt.ylabel('x2')\n",
    "plt.title('Problem 10.1')\n",
    "plt.savefig(\"HW1_P10_1.png\")"
   ]
  },
  {
   "cell_type": "markdown",
   "metadata": {},
   "source": [
    "## Problem 10.2"
   ]
  },
  {
   "cell_type": "code",
   "execution_count": null,
   "metadata": {},
   "outputs": [],
   "source": [
    "import numpy as np\n",
    "import matplotlib.pyplot as plt\n",
    "import matplotlib.gridspec as gridspec\n",
    "\n",
    "# creating grid  \n",
    "x = np.arange(-10.0, 10.0, 0.01) \n",
    "y = np.arange(-10.0, 10.0, 0.01) \n",
    "x1, x2 = np.meshgrid(x, y) \n",
    "\n",
    "# creating vector \n",
    "x1d = x2\n",
    "x2d = x1 + x2 - 3*np.arctan(x1+x2)\n",
    "\n",
    "plt.figure(figsize=(8,8))\n",
    "plt.streamplot(x1, x2, x1d, x2d, density=[0.95, 1])\n",
    "plt.xlim([-10.0, 10.0])\n",
    "plt.ylim([-10.0, 10.0])\n",
    "plt.xlabel('x1')\n",
    "plt.ylabel('x2')\n",
    "plt.title('Problem 10.2')\n",
    "plt.savefig(\"HW1_P10_2.png\")"
   ]
  },
  {
   "cell_type": "markdown",
   "metadata": {},
   "source": [
    "## Problem 10.3"
   ]
  },
  {
   "cell_type": "code",
   "execution_count": null,
   "metadata": {},
   "outputs": [],
   "source": [
    "import numpy as np\n",
    "import matplotlib.pyplot as plt\n",
    "import matplotlib.gridspec as gridspec\n",
    "\n",
    "# creating grid  \n",
    "x = np.arange(-10.0, 10.0, 0.01) \n",
    "y = np.arange(-10.0, 10.0, 0.01) \n",
    "x1, x2 = np.meshgrid(x, y) \n",
    "\n",
    "# creating vector \n",
    "x1d = x2\n",
    "x2d = -(0.5*x1 + x1**3)\n",
    "\n",
    "plt.figure(figsize=(8,8))\n",
    "plt.streamplot(x1, x2, x1d, x2d, density=[0.95, 1])\n",
    "plt.xlim([-10.0, 10.0])\n",
    "plt.ylim([-10.0, 10.0])\n",
    "plt.xlabel('x1')\n",
    "plt.ylabel('x2')\n",
    "plt.title('Problem 10.3')\n",
    "plt.savefig(\"HW1_P10_3.png\")"
   ]
  },
  {
   "cell_type": "markdown",
   "metadata": {},
   "source": [
    "## Problem 10.4"
   ]
  },
  {
   "cell_type": "code",
   "execution_count": null,
   "metadata": {},
   "outputs": [],
   "source": [
    "import numpy as np\n",
    "import matplotlib.pyplot as plt\n",
    "import matplotlib.gridspec as gridspec\n",
    "\n",
    "# creating grid  \n",
    "x = np.arange(-1.5, 1.5, 0.1) \n",
    "y = np.arange(-1.5, 1.5, 0.1) \n",
    "x1, x2 = np.meshgrid(x, y) \n",
    "\n",
    "# creating vector \n",
    "x1d = x2 \n",
    "phi = 0*x2\n",
    "for j, x1val in enumerate(x1):\n",
    "    for i,x2val in enumerate(x_vec): \n",
    "        x_val = x1[i][j] - x2[i][j]\n",
    "        if np.abs(x_val) <= 1:\n",
    "            phi[i][j] = x_val**3 + 0.5*x_val\n",
    "        else: \n",
    "            phi[i][j] = 2*x_val - 0.5*np.sign(x_val)\n",
    "x2d = -x2 - phi\n",
    "\n",
    "plt.figure(figsize=(8,8))\n",
    "plt.streamplot(x1, x2, x1d, x2d, density=[0.95, 1])\n",
    "plt.xlim([-1.5, 1.5])\n",
    "plt.ylim([-1.5, 1.5])\n",
    "plt.xlabel('x1')\n",
    "plt.ylabel('x2')\n",
    "plt.title('Problem 10.4')\n",
    "plt.savefig(\"HW1_P10_4.png\")"
   ]
  },
  {
   "cell_type": "code",
   "execution_count": null,
   "metadata": {},
   "outputs": [],
   "source": []
  }
 ],
 "metadata": {
  "kernelspec": {
   "display_name": "Python 3",
   "language": "python",
   "name": "python3"
  },
  "language_info": {
   "codemirror_mode": {
    "name": "ipython",
    "version": 3
   },
   "file_extension": ".py",
   "mimetype": "text/x-python",
   "name": "python",
   "nbconvert_exporter": "python",
   "pygments_lexer": "ipython3",
   "version": "3.8.5"
  }
 },
 "nbformat": 4,
 "nbformat_minor": 4
}
