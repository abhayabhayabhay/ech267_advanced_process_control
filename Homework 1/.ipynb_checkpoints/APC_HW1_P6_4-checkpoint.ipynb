{
 "cells": [
  {
   "cell_type": "code",
   "execution_count": 1,
   "metadata": {},
   "outputs": [],
   "source": [
    "import sympy as sm\n",
    "import sympy.physics.mechanics as me\n",
    "me.init_vprinting()\n",
    "x1, x2 = me.dynamicsymbols('x_1 x_2')"
   ]
  },
  {
   "cell_type": "markdown",
   "metadata": {},
   "source": [
    "# Problem 6-4"
   ]
  },
  {
   "cell_type": "markdown",
   "metadata": {},
   "source": [
    "Define RHS of x1_dot and x2_dot "
   ]
  },
  {
   "cell_type": "code",
   "execution_count": 2,
   "metadata": {
    "scrolled": false
   },
   "outputs": [],
   "source": [
    "rhs1 = x2\n",
    "rhs2 = -x1 + x2*(1 -3*x1**2 -2*x2**2)\n",
    "\n",
    "# define equations x_dot = 0\n",
    "eq1 = sm.Eq(0, rhs1)\n",
    "eq2 = sm.Eq(0, rhs2)"
   ]
  },
  {
   "cell_type": "markdown",
   "metadata": {},
   "source": [
    "Equilibrium Equations, x_dot = 0 = f(x)"
   ]
  },
  {
   "cell_type": "code",
   "execution_count": 3,
   "metadata": {
    "scrolled": true
   },
   "outputs": [
    {
     "name": "stdout",
     "output_type": "stream",
     "text": [
      "Equation 1:\n"
     ]
    },
    {
     "data": {
      "image/png": "[encoded data removed]",
      "text/latex": [
       "$\\displaystyle 0 = x_{2}$"
      ],
      "text/plain": [
       "0 = x₂"
      ]
     },
     "execution_count": 3,
     "metadata": {},
     "output_type": "execute_result"
    }
   ],
   "source": [
    "print('Equation 1:')\n",
    "\n",
    "eq1"
   ]
  },
  {
   "cell_type": "code",
   "execution_count": 4,
   "metadata": {
    "scrolled": false
   },
   "outputs": [
    {
     "name": "stdout",
     "output_type": "stream",
     "text": [
      "Equation 2:\n"
     ]
    },
    {
     "data": {
      "image/png": "[encoded data removed]",
      "text/latex": [
       "$\\displaystyle 0 = \\left(- 3 x^{2}_{1} - 2 x^{2}_{2} + 1\\right) x_{2} - x_{1}$"
      ],
      "text/plain": [
       "    ⎛      2       2    ⎞        \n",
       "0 = ⎝- 3⋅x₁  - 2⋅x₂  + 1⎠⋅x₂ - x₁"
      ]
     },
     "execution_count": 4,
     "metadata": {},
     "output_type": "execute_result"
    }
   ],
   "source": [
    "print('Equation 2:')\n",
    "eq2"
   ]
  },
  {
   "cell_type": "markdown",
   "metadata": {},
   "source": [
    "Solve x_dot = 0 = f(x) for set of equilibrium points \n"
   ]
  },
  {
   "cell_type": "code",
   "execution_count": 5,
   "metadata": {},
   "outputs": [],
   "source": [
    "eqpts = sm.solve([eq1, eq2], x1, x2)"
   ]
  },
  {
   "cell_type": "code",
   "execution_count": 6,
   "metadata": {},
   "outputs": [
    {
     "name": "stdout",
     "output_type": "stream",
     "text": [
      "Equilbrium Points: \n"
     ]
    },
    {
     "data": {
      "image/png": "[encoded data removed]",
      "text/latex": [
       "$\\displaystyle \\left[ \\left\\{ x_{1} : 0, \\  x_{2} : 0\\right\\}\\right]$"
      ],
      "text/plain": [
       "[{x₁: 0, x₂: 0}]"
      ]
     },
     "execution_count": 6,
     "metadata": {},
     "output_type": "execute_result"
    }
   ],
   "source": [
    "print('Equilbrium Points: ')\n",
    "eqpts"
   ]
  },
  {
   "cell_type": "markdown",
   "metadata": {},
   "source": [
    "Solve for jacobian, J, of state space equations "
   ]
  },
  {
   "cell_type": "code",
   "execution_count": 7,
   "metadata": {},
   "outputs": [],
   "source": [
    "X = sm.Matrix([[rhs1], [rhs2]])\n",
    "Y = sm.Matrix([x1, x2])\n",
    "J = X.jacobian(Y)"
   ]
  },
  {
   "cell_type": "code",
   "execution_count": 8,
   "metadata": {
    "scrolled": false
   },
   "outputs": [
    {
     "name": "stdout",
     "output_type": "stream",
     "text": [
      "Jacobian: \n"
     ]
    },
    {
     "data": {
      "text/latex": [
       "$\\displaystyle \\left[\\begin{matrix}0 & 1\\\\- 6 x_{1} x_{2} - 1 & - 3 x^{2}_{1} - 6 x^{2}_{2} + 1\\end{matrix}\\right]$"
      ],
      "text/plain": [
       "⎡     0                 1         ⎤\n",
       "⎢                                 ⎥\n",
       "⎢                    2       2    ⎥\n",
       "⎣-6⋅x₁⋅x₂ - 1  - 3⋅x₁  - 6⋅x₂  + 1⎦"
      ]
     },
     "execution_count": 8,
     "metadata": {},
     "output_type": "execute_result"
    }
   ],
   "source": [
    "print('Jacobian: ')\n",
    "J"
   ]
  },
  {
   "cell_type": "code",
   "execution_count": 9,
   "metadata": {},
   "outputs": [],
   "source": [
    "evaluatedJacobians = []\n",
    "for point in eqpts:\n",
    "    jeval = J.subs(point)\n",
    "    evaluatedJacobians.append(jeval)"
   ]
  },
  {
   "cell_type": "code",
   "execution_count": 10,
   "metadata": {
    "scrolled": false
   },
   "outputs": [
    {
     "data": {
      "text/latex": [
       "$\\displaystyle \\left[ \\left[\\begin{matrix}0 & 1\\\\-1 & 1\\end{matrix}\\right]\\right]$"
      ],
      "text/plain": [
       "⎡⎡0   1⎤⎤\n",
       "⎢⎢     ⎥⎥\n",
       "⎣⎣-1  1⎦⎦"
      ]
     },
     "execution_count": 10,
     "metadata": {},
     "output_type": "execute_result"
    }
   ],
   "source": [
    "evaluatedJacobians"
   ]
  },
  {
   "cell_type": "code",
   "execution_count": 11,
   "metadata": {},
   "outputs": [
    {
     "name": "stdout",
     "output_type": "stream",
     "text": [
      "{1/2 - sqrt(3)*I/2: 1, 1/2 + sqrt(3)*I/2: 1}\n"
     ]
    }
   ],
   "source": [
    "for i in range(0,len(eqpts)):\n",
    "    print(evaluatedJacobians[i].eigenvals())"
   ]
  },
  {
   "cell_type": "code",
   "execution_count": 12,
   "metadata": {},
   "outputs": [
    {
     "name": "stdout",
     "output_type": "stream",
     "text": [
      "Eq. Pt. 1:\n"
     ]
    },
    {
     "data": {
      "image/png": "[encoded data removed]",
      "text/latex": [
       "$\\displaystyle \\left\\{ \\frac{1}{2} - \\frac{\\sqrt{3} i}{2} : 1, \\  \\frac{1}{2} + \\frac{\\sqrt{3} i}{2} : 1\\right\\}$"
      ],
      "text/plain": [
       "⎧1   √3⋅ⅈ     1   √3⋅ⅈ   ⎫\n",
       "⎨─ - ────: 1, ─ + ────: 1⎬\n",
       "⎩2    2       2    2     ⎭"
      ]
     },
     "execution_count": 12,
     "metadata": {},
     "output_type": "execute_result"
    }
   ],
   "source": [
    "print('Eq. Pt. 1:')\n",
    "evaluatedJacobians[0].eigenvals()"
   ]
  },
  {
   "cell_type": "markdown",
   "metadata": {},
   "source": [
    "| Index | Eigenvalues | Eq. Pt. Type |\n",
    "|-------|--------------------------------|------------- |\n",
    "| 1     | 1/2 - sqrt(3)/2 i, 1/2 + sqrt(3)/2 i| Focus |\n"
   ]
  }
 ],
 "metadata": {
  "kernelspec": {
   "display_name": "Python 3",
   "language": "python",
   "name": "python3"
  },
  "language_info": {
   "codemirror_mode": {
    "name": "ipython",
    "version": 3
   },
   "file_extension": ".py",
   "mimetype": "text/x-python",
   "name": "python",
   "nbconvert_exporter": "python",
   "pygments_lexer": "ipython3",
   "version": "3.8.5"
  }
 },
 "nbformat": 4,
 "nbformat_minor": 4
}
